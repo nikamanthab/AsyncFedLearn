{
 "cells": [
  {
   "cell_type": "code",
   "execution_count": 1,
   "id": "ccea5eb4",
   "metadata": {},
   "outputs": [],
   "source": [
    "import torch\n",
    "from torchvision import transforms\n",
    "from torch.utils.data import Dataset, DataLoader\n",
    "from torch.nn import Linear,Softmax,CrossEntropyLoss,ReLU,Sequential, Module\n",
    "from torch.optim import Adam, SGD\n",
    "import torch.nn.functional as F\n",
    "import torch.nn as nn\n",
    "from sklearn.metrics import accuracy_score, f1_score\n",
    "import pandas as pd\n",
    "import numpy as np\n",
    "import os\n",
    "from PIL import Image\n",
    "from time import time\n",
    "from torchvision.models import resnet18, alexnet, vgg11, efficientnet_b0, resnet152\n",
    "from tqdm import tqdm_notebook\n",
    "device = 'cuda'"
   ]
  },
  {
   "cell_type": "code",
   "execution_count": 2,
   "id": "91c928d1",
   "metadata": {},
   "outputs": [
    {
     "name": "stdout",
     "output_type": "stream",
     "text": [
      "{'airplane': 0, 'automobile': 1, 'bird': 2, 'cat': 3, 'deer': 4, 'dog': 5, 'frog': 6, 'horse': 7, 'ship': 8, 'truck': 9}\n"
     ]
    }
   ],
   "source": [
    "label_dict = dict([(j,i) for (i,j) in sorted(list(enumerate(os.listdir('../Dataset/CIFAR-10-images/train/'))))])\n",
    "print(label_dict)"
   ]
  },
  {
   "cell_type": "code",
   "execution_count": 3,
   "id": "38dbc2ed",
   "metadata": {},
   "outputs": [],
   "source": [
    "paths = []\n",
    "label = []\n",
    "for i in os.listdir('../Dataset/CIFAR-10-images/train/'):\n",
    "    for j in os.listdir('../Dataset/CIFAR-10-images/train/'+str(i))[:500]:\n",
    "        paths.append('../Dataset/CIFAR-10-images/train/'+str(i)+'/'+str(j))\n",
    "        label.append(i)\n",
    "train_df = pd.DataFrame({\"paths\": paths, \"label\": label})  \n",
    "\n",
    "paths = []\n",
    "label = []\n",
    "for i in os.listdir('../Dataset/CIFAR-10-images/test/'):\n",
    "    for j in os.listdir('../Dataset/CIFAR-10-images/test/'+str(i))[:500]:\n",
    "        paths.append('../Dataset/CIFAR-10-images/test/'+str(i)+'/'+str(j))\n",
    "        label.append(i)\n",
    "test_df = pd.DataFrame({\"paths\": paths, \"label\": label})"
   ]
  },
  {
   "cell_type": "code",
   "execution_count": 4,
   "id": "b5b833a4",
   "metadata": {},
   "outputs": [
    {
     "name": "stdout",
     "output_type": "stream",
     "text": [
      "train classes:  10\n",
      "train images:  5000\n",
      "test classes:  10\n",
      "test images:  5000\n"
     ]
    }
   ],
   "source": [
    "print(\"train classes: \", len(train_df['label'].unique()))\n",
    "print(\"train images: \", len(train_df['paths'].unique()))\n",
    "print(\"test classes: \", len(test_df['label'].unique()))\n",
    "print(\"test images: \", len(test_df['paths'].unique()))"
   ]
  },
  {
   "cell_type": "code",
   "execution_count": 5,
   "id": "5f255b72",
   "metadata": {},
   "outputs": [],
   "source": [
    "class CIFARDataSet(Dataset):\n",
    "    def __init__(self, csv_file, transform=None):\n",
    "        self.transform = transform\n",
    "        self.df = csv_file\n",
    "    def __len__(self):\n",
    "        return len(self.df)\n",
    "    def __getitem__(self, idx):\n",
    "        if torch.is_tensor(idx):\n",
    "            idx = idx.tolist()\n",
    "        label = label_dict[self.df.iloc[idx]['label']]\n",
    "        label_onehot = np.zeros(10)\n",
    "        label_onehot[label] = 1.\n",
    "        path = self.df.iloc[idx]['paths']\n",
    "        image = Image.open(path)\n",
    "        image = self.transform(image)\n",
    "        sample = {\n",
    "            \"image\": image.to(device),\n",
    "            \"label\": torch.from_numpy(label_onehot).to(device)\n",
    "        }\n",
    "        return sample"
   ]
  },
  {
   "cell_type": "code",
   "execution_count": 6,
   "id": "e275bf40",
   "metadata": {},
   "outputs": [],
   "source": [
    "class Net(nn.Module):\n",
    "    def __init__(self):\n",
    "        super().__init__()\n",
    "        self.conv1 = nn.Conv2d(3, 6, 5)\n",
    "        self.pool = nn.MaxPool2d(2, 2)\n",
    "        self.conv2 = nn.Conv2d(6, 16, 5)\n",
    "        self.fc1 = nn.Linear(16 * 5 * 5, 120)\n",
    "        self.fc2 = nn.Linear(120, 84)\n",
    "        self.fc3 = nn.Linear(84, 10)\n",
    "        self.softmax = nn.Softmax(dim=1)\n",
    "    def forward(self, x):\n",
    "        x = self.pool(F.relu(self.conv1(x)))\n",
    "        x = self.pool(F.relu(self.conv2(x)))\n",
    "        x = torch.flatten(x, 1) # flatten all dimensions except batch\n",
    "        x = F.relu(self.fc1(x))\n",
    "        x = F.relu(self.fc2(x))\n",
    "        x = self.fc3(x)\n",
    "#         x = self.softmax(x)\n",
    "        return x"
   ]
  },
  {
   "cell_type": "code",
   "execution_count": 7,
   "id": "bd1f22a4",
   "metadata": {},
   "outputs": [],
   "source": [
    "model = resnet18()\n",
    "model.fc = nn.Linear(in_features=512, out_features=10, bias=True)\n",
    "model = model.to(device)"
   ]
  },
  {
   "cell_type": "code",
   "execution_count": 8,
   "id": "26fc68a5",
   "metadata": {},
   "outputs": [],
   "source": [
    "train_batch_size = 32\n",
    "num_of_epochs = 20\n",
    "learning_rate=0.01"
   ]
  },
  {
   "cell_type": "code",
   "execution_count": 9,
   "id": "b87cfbfd",
   "metadata": {},
   "outputs": [],
   "source": [
    "traindataset = CIFARDataSet(train_df, transform=transforms.Compose([\n",
    "    transforms.RandomCrop(32, padding=4),\n",
    "    transforms.RandomHorizontalFlip(),\n",
    "    transforms.ToTensor(),\n",
    "    transforms.Normalize((0.4914, 0.4822, 0.4465), (0.2023, 0.1994, 0.2010)),\n",
    "]))\n",
    "trainloader = DataLoader(traindataset, batch_size=train_batch_size,shuffle=True)\n",
    "valdataset = CIFARDataSet(test_df, transform=transforms.Compose([\n",
    "    transforms.ToTensor(),\n",
    "    transforms.Normalize((0.4914, 0.4822, 0.4465), (0.2023, 0.1994, 0.2010)),\n",
    "]))\n",
    "valloader = DataLoader(valdataset, batch_size=32)"
   ]
  },
  {
   "cell_type": "code",
   "execution_count": 10,
   "id": "0b2cf115",
   "metadata": {
    "scrolled": true
   },
   "outputs": [
    {
     "name": "stdout",
     "output_type": "stream",
     "text": [
      "\t conv1.weight\n",
      "\t bn1.weight\n",
      "\t bn1.bias\n",
      "\t layer1.0.conv1.weight\n",
      "\t layer1.0.bn1.weight\n",
      "\t layer1.0.bn1.bias\n",
      "\t layer1.0.conv2.weight\n",
      "\t layer1.0.bn2.weight\n",
      "\t layer1.0.bn2.bias\n",
      "\t layer1.1.conv1.weight\n",
      "\t layer1.1.bn1.weight\n",
      "\t layer1.1.bn1.bias\n",
      "\t layer1.1.conv2.weight\n",
      "\t layer1.1.bn2.weight\n",
      "\t layer1.1.bn2.bias\n",
      "\t layer2.0.conv1.weight\n",
      "\t layer2.0.bn1.weight\n",
      "\t layer2.0.bn1.bias\n",
      "\t layer2.0.conv2.weight\n",
      "\t layer2.0.bn2.weight\n",
      "\t layer2.0.bn2.bias\n",
      "\t layer2.0.downsample.0.weight\n",
      "\t layer2.0.downsample.1.weight\n",
      "\t layer2.0.downsample.1.bias\n",
      "\t layer2.1.conv1.weight\n",
      "\t layer2.1.bn1.weight\n",
      "\t layer2.1.bn1.bias\n",
      "\t layer2.1.conv2.weight\n",
      "\t layer2.1.bn2.weight\n",
      "\t layer2.1.bn2.bias\n",
      "\t layer3.0.conv1.weight\n",
      "\t layer3.0.bn1.weight\n",
      "\t layer3.0.bn1.bias\n",
      "\t layer3.0.conv2.weight\n",
      "\t layer3.0.bn2.weight\n",
      "\t layer3.0.bn2.bias\n",
      "\t layer3.0.downsample.0.weight\n",
      "\t layer3.0.downsample.1.weight\n",
      "\t layer3.0.downsample.1.bias\n",
      "\t layer3.1.conv1.weight\n",
      "\t layer3.1.bn1.weight\n",
      "\t layer3.1.bn1.bias\n",
      "\t layer3.1.conv2.weight\n",
      "\t layer3.1.bn2.weight\n",
      "\t layer3.1.bn2.bias\n",
      "\t layer4.0.conv1.weight\n",
      "\t layer4.0.bn1.weight\n",
      "\t layer4.0.bn1.bias\n",
      "\t layer4.0.conv2.weight\n",
      "\t layer4.0.bn2.weight\n",
      "\t layer4.0.bn2.bias\n",
      "\t layer4.0.downsample.0.weight\n",
      "\t layer4.0.downsample.1.weight\n",
      "\t layer4.0.downsample.1.bias\n",
      "\t layer4.1.conv1.weight\n",
      "\t layer4.1.bn1.weight\n",
      "\t layer4.1.bn1.bias\n",
      "\t layer4.1.conv2.weight\n",
      "\t layer4.1.bn2.weight\n",
      "\t layer4.1.bn2.bias\n",
      "\t fc.weight\n",
      "\t fc.bias\n"
     ]
    }
   ],
   "source": [
    "params_to_update = []\n",
    "for name,param in model.named_parameters():\n",
    "    if param.requires_grad == True:\n",
    "        params_to_update.append(param)\n",
    "        print(\"\\t\",name)"
   ]
  },
  {
   "cell_type": "code",
   "execution_count": 11,
   "id": "bf6e5a99",
   "metadata": {},
   "outputs": [],
   "source": [
    "criterian = CrossEntropyLoss().to(device)\n",
    "optimizer = Adam(params_to_update, lr=learning_rate)"
   ]
  },
  {
   "cell_type": "code",
   "execution_count": 12,
   "id": "d95ba4fa",
   "metadata": {
    "scrolled": true
   },
   "outputs": [
    {
     "name": "stdout",
     "output_type": "stream",
     "text": [
      "----------------starting train loop------------------\n",
      "epoch: 0\n"
     ]
    },
    {
     "name": "stderr",
     "output_type": "stream",
     "text": [
      "C:\\Users\\nitin\\AppData\\Local\\Temp/ipykernel_35588/2026690136.py:11: TqdmDeprecationWarning: This function will be removed in tqdm==5.0.0\n",
      "Please use `tqdm.notebook.tqdm` instead of `tqdm.tqdm_notebook`\n",
      "  for batch in tqdm_notebook(trainloader):\n"
     ]
    },
    {
     "data": {
      "application/vnd.jupyter.widget-view+json": {
       "model_id": "f382b0381bd2450f97a1d0564b831a80",
       "version_major": 2,
       "version_minor": 0
      },
      "text/plain": [
       "  0%|          | 0/157 [00:00<?, ?it/s]"
      ]
     },
     "metadata": {},
     "output_type": "display_data"
    },
    {
     "name": "stdout",
     "output_type": "stream",
     "text": [
      "training acc: 0.1748 total loss: tensor(404.4487, device='cuda:0', dtype=torch.float64, grad_fn=<AddBackward0>) training f1_score: 0.1748\n",
      "test acc: 0.1974 test f1_score: 0.1974\n",
      "epoch: 1\n"
     ]
    },
    {
     "name": "stderr",
     "output_type": "stream",
     "text": [
      "C:\\Users\\nitin\\AppData\\Local\\Temp/ipykernel_35588/2026690136.py:11: TqdmDeprecationWarning: This function will be removed in tqdm==5.0.0\n",
      "Please use `tqdm.notebook.tqdm` instead of `tqdm.tqdm_notebook`\n",
      "  for batch in tqdm_notebook(trainloader):\n"
     ]
    },
    {
     "data": {
      "application/vnd.jupyter.widget-view+json": {
       "model_id": "48f9b687fbcc47aca5e0a5cecd0b0d48",
       "version_major": 2,
       "version_minor": 0
      },
      "text/plain": [
       "  0%|          | 0/157 [00:00<?, ?it/s]"
      ]
     },
     "metadata": {},
     "output_type": "display_data"
    },
    {
     "name": "stdout",
     "output_type": "stream",
     "text": [
      "training acc: 0.224 total loss: tensor(331.3511, device='cuda:0', dtype=torch.float64, grad_fn=<AddBackward0>) training f1_score: 0.22400000000000003\n",
      "test acc: 0.2212 test f1_score: 0.2212\n",
      "epoch: 2\n"
     ]
    },
    {
     "name": "stderr",
     "output_type": "stream",
     "text": [
      "C:\\Users\\nitin\\AppData\\Local\\Temp/ipykernel_35588/2026690136.py:11: TqdmDeprecationWarning: This function will be removed in tqdm==5.0.0\n",
      "Please use `tqdm.notebook.tqdm` instead of `tqdm.tqdm_notebook`\n",
      "  for batch in tqdm_notebook(trainloader):\n"
     ]
    },
    {
     "data": {
      "application/vnd.jupyter.widget-view+json": {
       "model_id": "1244596773fe4cc5b7e3cb298366710f",
       "version_major": 2,
       "version_minor": 0
      },
      "text/plain": [
       "  0%|          | 0/157 [00:00<?, ?it/s]"
      ]
     },
     "metadata": {},
     "output_type": "display_data"
    },
    {
     "name": "stdout",
     "output_type": "stream",
     "text": [
      "training acc: 0.2482 total loss: tensor(313.9057, device='cuda:0', dtype=torch.float64, grad_fn=<AddBackward0>) training f1_score: 0.2482\n",
      "test acc: 0.3246 test f1_score: 0.3246\n",
      "epoch: 3\n"
     ]
    },
    {
     "name": "stderr",
     "output_type": "stream",
     "text": [
      "C:\\Users\\nitin\\AppData\\Local\\Temp/ipykernel_35588/2026690136.py:11: TqdmDeprecationWarning: This function will be removed in tqdm==5.0.0\n",
      "Please use `tqdm.notebook.tqdm` instead of `tqdm.tqdm_notebook`\n",
      "  for batch in tqdm_notebook(trainloader):\n"
     ]
    },
    {
     "data": {
      "application/vnd.jupyter.widget-view+json": {
       "model_id": "cfe5ed64327f42d9b522e5d0e3a3727f",
       "version_major": 2,
       "version_minor": 0
      },
      "text/plain": [
       "  0%|          | 0/157 [00:00<?, ?it/s]"
      ]
     },
     "metadata": {},
     "output_type": "display_data"
    },
    {
     "name": "stdout",
     "output_type": "stream",
     "text": [
      "training acc: 0.3032 total loss: tensor(292.7127, device='cuda:0', dtype=torch.float64, grad_fn=<AddBackward0>) training f1_score: 0.3032\n",
      "test acc: 0.3208 test f1_score: 0.3208\n",
      "epoch: 4\n"
     ]
    },
    {
     "name": "stderr",
     "output_type": "stream",
     "text": [
      "C:\\Users\\nitin\\AppData\\Local\\Temp/ipykernel_35588/2026690136.py:11: TqdmDeprecationWarning: This function will be removed in tqdm==5.0.0\n",
      "Please use `tqdm.notebook.tqdm` instead of `tqdm.tqdm_notebook`\n",
      "  for batch in tqdm_notebook(trainloader):\n"
     ]
    },
    {
     "data": {
      "application/vnd.jupyter.widget-view+json": {
       "model_id": "afb0eb3eadef4260bab54347f9ba7867",
       "version_major": 2,
       "version_minor": 0
      },
      "text/plain": [
       "  0%|          | 0/157 [00:00<?, ?it/s]"
      ]
     },
     "metadata": {},
     "output_type": "display_data"
    },
    {
     "name": "stdout",
     "output_type": "stream",
     "text": [
      "training acc: 0.3294 total loss: tensor(279.9822, device='cuda:0', dtype=torch.float64, grad_fn=<AddBackward0>) training f1_score: 0.3294\n",
      "test acc: 0.361 test f1_score: 0.361\n",
      "epoch: 5\n"
     ]
    },
    {
     "name": "stderr",
     "output_type": "stream",
     "text": [
      "C:\\Users\\nitin\\AppData\\Local\\Temp/ipykernel_35588/2026690136.py:11: TqdmDeprecationWarning: This function will be removed in tqdm==5.0.0\n",
      "Please use `tqdm.notebook.tqdm` instead of `tqdm.tqdm_notebook`\n",
      "  for batch in tqdm_notebook(trainloader):\n"
     ]
    },
    {
     "data": {
      "application/vnd.jupyter.widget-view+json": {
       "model_id": "90002db3ffa448759824484842d933bc",
       "version_major": 2,
       "version_minor": 0
      },
      "text/plain": [
       "  0%|          | 0/157 [00:00<?, ?it/s]"
      ]
     },
     "metadata": {},
     "output_type": "display_data"
    },
    {
     "name": "stdout",
     "output_type": "stream",
     "text": [
      "training acc: 0.361 total loss: tensor(270.8304, device='cuda:0', dtype=torch.float64, grad_fn=<AddBackward0>) training f1_score: 0.361\n",
      "test acc: 0.4 test f1_score: 0.4000000000000001\n",
      "epoch: 6\n"
     ]
    },
    {
     "name": "stderr",
     "output_type": "stream",
     "text": [
      "C:\\Users\\nitin\\AppData\\Local\\Temp/ipykernel_35588/2026690136.py:11: TqdmDeprecationWarning: This function will be removed in tqdm==5.0.0\n",
      "Please use `tqdm.notebook.tqdm` instead of `tqdm.tqdm_notebook`\n",
      "  for batch in tqdm_notebook(trainloader):\n"
     ]
    },
    {
     "data": {
      "application/vnd.jupyter.widget-view+json": {
       "model_id": "2eb6dc9d97444261a268c2dfe4d13f80",
       "version_major": 2,
       "version_minor": 0
      },
      "text/plain": [
       "  0%|          | 0/157 [00:00<?, ?it/s]"
      ]
     },
     "metadata": {},
     "output_type": "display_data"
    },
    {
     "name": "stdout",
     "output_type": "stream",
     "text": [
      "training acc: 0.3698 total loss: tensor(263.8324, device='cuda:0', dtype=torch.float64, grad_fn=<AddBackward0>) training f1_score: 0.3698\n",
      "test acc: 0.3638 test f1_score: 0.3638\n",
      "epoch: 7\n"
     ]
    },
    {
     "name": "stderr",
     "output_type": "stream",
     "text": [
      "C:\\Users\\nitin\\AppData\\Local\\Temp/ipykernel_35588/2026690136.py:11: TqdmDeprecationWarning: This function will be removed in tqdm==5.0.0\n",
      "Please use `tqdm.notebook.tqdm` instead of `tqdm.tqdm_notebook`\n",
      "  for batch in tqdm_notebook(trainloader):\n"
     ]
    },
    {
     "data": {
      "application/vnd.jupyter.widget-view+json": {
       "model_id": "350e913d110041c9bb1478053a0616a4",
       "version_major": 2,
       "version_minor": 0
      },
      "text/plain": [
       "  0%|          | 0/157 [00:00<?, ?it/s]"
      ]
     },
     "metadata": {},
     "output_type": "display_data"
    },
    {
     "name": "stdout",
     "output_type": "stream",
     "text": [
      "training acc: 0.399 total loss: tensor(256.9658, device='cuda:0', dtype=torch.float64, grad_fn=<AddBackward0>) training f1_score: 0.399\n",
      "test acc: 0.3928 test f1_score: 0.3928\n",
      "epoch: 8\n"
     ]
    },
    {
     "name": "stderr",
     "output_type": "stream",
     "text": [
      "C:\\Users\\nitin\\AppData\\Local\\Temp/ipykernel_35588/2026690136.py:11: TqdmDeprecationWarning: This function will be removed in tqdm==5.0.0\n",
      "Please use `tqdm.notebook.tqdm` instead of `tqdm.tqdm_notebook`\n",
      "  for batch in tqdm_notebook(trainloader):\n"
     ]
    },
    {
     "data": {
      "application/vnd.jupyter.widget-view+json": {
       "model_id": "8e0843a730c84339a3516ff77910196c",
       "version_major": 2,
       "version_minor": 0
      },
      "text/plain": [
       "  0%|          | 0/157 [00:00<?, ?it/s]"
      ]
     },
     "metadata": {},
     "output_type": "display_data"
    },
    {
     "name": "stdout",
     "output_type": "stream",
     "text": [
      "training acc: 0.4022 total loss: tensor(253.5459, device='cuda:0', dtype=torch.float64, grad_fn=<AddBackward0>) training f1_score: 0.4022\n",
      "test acc: 0.3842 test f1_score: 0.3842\n",
      "epoch: 9\n"
     ]
    },
    {
     "name": "stderr",
     "output_type": "stream",
     "text": [
      "C:\\Users\\nitin\\AppData\\Local\\Temp/ipykernel_35588/2026690136.py:11: TqdmDeprecationWarning: This function will be removed in tqdm==5.0.0\n",
      "Please use `tqdm.notebook.tqdm` instead of `tqdm.tqdm_notebook`\n",
      "  for batch in tqdm_notebook(trainloader):\n"
     ]
    },
    {
     "data": {
      "application/vnd.jupyter.widget-view+json": {
       "model_id": "37e1aa8d6a804d1aa54ec97f89eb5382",
       "version_major": 2,
       "version_minor": 0
      },
      "text/plain": [
       "  0%|          | 0/157 [00:00<?, ?it/s]"
      ]
     },
     "metadata": {},
     "output_type": "display_data"
    },
    {
     "name": "stdout",
     "output_type": "stream",
     "text": [
      "training acc: 0.4216 total loss: tensor(245.6420, device='cuda:0', dtype=torch.float64, grad_fn=<AddBackward0>) training f1_score: 0.4216\n",
      "test acc: 0.422 test f1_score: 0.422\n",
      "epoch: 10\n"
     ]
    },
    {
     "name": "stderr",
     "output_type": "stream",
     "text": [
      "C:\\Users\\nitin\\AppData\\Local\\Temp/ipykernel_35588/2026690136.py:11: TqdmDeprecationWarning: This function will be removed in tqdm==5.0.0\n",
      "Please use `tqdm.notebook.tqdm` instead of `tqdm.tqdm_notebook`\n",
      "  for batch in tqdm_notebook(trainloader):\n"
     ]
    },
    {
     "data": {
      "application/vnd.jupyter.widget-view+json": {
       "model_id": "041701c0e910454fba4e5fdfe4f2ddda",
       "version_major": 2,
       "version_minor": 0
      },
      "text/plain": [
       "  0%|          | 0/157 [00:00<?, ?it/s]"
      ]
     },
     "metadata": {},
     "output_type": "display_data"
    },
    {
     "name": "stdout",
     "output_type": "stream",
     "text": [
      "training acc: 0.4296 total loss: tensor(243.5291, device='cuda:0', dtype=torch.float64, grad_fn=<AddBackward0>) training f1_score: 0.42960000000000004\n",
      "test acc: 0.441 test f1_score: 0.441\n",
      "epoch: 11\n"
     ]
    },
    {
     "name": "stderr",
     "output_type": "stream",
     "text": [
      "C:\\Users\\nitin\\AppData\\Local\\Temp/ipykernel_35588/2026690136.py:11: TqdmDeprecationWarning: This function will be removed in tqdm==5.0.0\n",
      "Please use `tqdm.notebook.tqdm` instead of `tqdm.tqdm_notebook`\n",
      "  for batch in tqdm_notebook(trainloader):\n"
     ]
    },
    {
     "data": {
      "application/vnd.jupyter.widget-view+json": {
       "model_id": "06e125ca63e04a95a1b8730abe6344cf",
       "version_major": 2,
       "version_minor": 0
      },
      "text/plain": [
       "  0%|          | 0/157 [00:00<?, ?it/s]"
      ]
     },
     "metadata": {},
     "output_type": "display_data"
    },
    {
     "name": "stdout",
     "output_type": "stream",
     "text": [
      "training acc: 0.4478 total loss: tensor(236.0378, device='cuda:0', dtype=torch.float64, grad_fn=<AddBackward0>) training f1_score: 0.4478\n",
      "test acc: 0.461 test f1_score: 0.461\n",
      "epoch: 12\n"
     ]
    },
    {
     "name": "stderr",
     "output_type": "stream",
     "text": [
      "C:\\Users\\nitin\\AppData\\Local\\Temp/ipykernel_35588/2026690136.py:11: TqdmDeprecationWarning: This function will be removed in tqdm==5.0.0\n",
      "Please use `tqdm.notebook.tqdm` instead of `tqdm.tqdm_notebook`\n",
      "  for batch in tqdm_notebook(trainloader):\n"
     ]
    },
    {
     "data": {
      "application/vnd.jupyter.widget-view+json": {
       "model_id": "a8a2f5dce0364612b98f475034b053b4",
       "version_major": 2,
       "version_minor": 0
      },
      "text/plain": [
       "  0%|          | 0/157 [00:00<?, ?it/s]"
      ]
     },
     "metadata": {},
     "output_type": "display_data"
    },
    {
     "name": "stdout",
     "output_type": "stream",
     "text": [
      "training acc: 0.4574 total loss: tensor(234.0395, device='cuda:0', dtype=torch.float64, grad_fn=<AddBackward0>) training f1_score: 0.4574\n",
      "test acc: 0.466 test f1_score: 0.466\n",
      "epoch: 13\n"
     ]
    },
    {
     "name": "stderr",
     "output_type": "stream",
     "text": [
      "C:\\Users\\nitin\\AppData\\Local\\Temp/ipykernel_35588/2026690136.py:11: TqdmDeprecationWarning: This function will be removed in tqdm==5.0.0\n",
      "Please use `tqdm.notebook.tqdm` instead of `tqdm.tqdm_notebook`\n",
      "  for batch in tqdm_notebook(trainloader):\n"
     ]
    },
    {
     "data": {
      "application/vnd.jupyter.widget-view+json": {
       "model_id": "09839f1f2cdf48c18231bc0fccb2f616",
       "version_major": 2,
       "version_minor": 0
      },
      "text/plain": [
       "  0%|          | 0/157 [00:00<?, ?it/s]"
      ]
     },
     "metadata": {},
     "output_type": "display_data"
    },
    {
     "name": "stdout",
     "output_type": "stream",
     "text": [
      "training acc: 0.4584 total loss: tensor(230.1706, device='cuda:0', dtype=torch.float64, grad_fn=<AddBackward0>) training f1_score: 0.4584\n",
      "test acc: 0.4574 test f1_score: 0.4574\n",
      "epoch: 14\n"
     ]
    },
    {
     "name": "stderr",
     "output_type": "stream",
     "text": [
      "C:\\Users\\nitin\\AppData\\Local\\Temp/ipykernel_35588/2026690136.py:11: TqdmDeprecationWarning: This function will be removed in tqdm==5.0.0\n",
      "Please use `tqdm.notebook.tqdm` instead of `tqdm.tqdm_notebook`\n",
      "  for batch in tqdm_notebook(trainloader):\n"
     ]
    },
    {
     "data": {
      "application/vnd.jupyter.widget-view+json": {
       "model_id": "1923f485035b44508b1dfd9dbaa10df6",
       "version_major": 2,
       "version_minor": 0
      },
      "text/plain": [
       "  0%|          | 0/157 [00:00<?, ?it/s]"
      ]
     },
     "metadata": {},
     "output_type": "display_data"
    },
    {
     "name": "stdout",
     "output_type": "stream",
     "text": [
      "training acc: 0.4732 total loss: tensor(224.6372, device='cuda:0', dtype=torch.float64, grad_fn=<AddBackward0>) training f1_score: 0.4732\n",
      "test acc: 0.501 test f1_score: 0.501\n",
      "epoch: 15\n"
     ]
    },
    {
     "name": "stderr",
     "output_type": "stream",
     "text": [
      "C:\\Users\\nitin\\AppData\\Local\\Temp/ipykernel_35588/2026690136.py:11: TqdmDeprecationWarning: This function will be removed in tqdm==5.0.0\n",
      "Please use `tqdm.notebook.tqdm` instead of `tqdm.tqdm_notebook`\n",
      "  for batch in tqdm_notebook(trainloader):\n"
     ]
    },
    {
     "data": {
      "application/vnd.jupyter.widget-view+json": {
       "model_id": "0c4567e3819c43ff9cc422bc548f119b",
       "version_major": 2,
       "version_minor": 0
      },
      "text/plain": [
       "  0%|          | 0/157 [00:00<?, ?it/s]"
      ]
     },
     "metadata": {},
     "output_type": "display_data"
    },
    {
     "name": "stdout",
     "output_type": "stream",
     "text": [
      "training acc: 0.493 total loss: tensor(219.3589, device='cuda:0', dtype=torch.float64, grad_fn=<AddBackward0>) training f1_score: 0.493\n",
      "test acc: 0.5026 test f1_score: 0.5026\n",
      "epoch: 16\n"
     ]
    },
    {
     "name": "stderr",
     "output_type": "stream",
     "text": [
      "C:\\Users\\nitin\\AppData\\Local\\Temp/ipykernel_35588/2026690136.py:11: TqdmDeprecationWarning: This function will be removed in tqdm==5.0.0\n",
      "Please use `tqdm.notebook.tqdm` instead of `tqdm.tqdm_notebook`\n",
      "  for batch in tqdm_notebook(trainloader):\n"
     ]
    },
    {
     "data": {
      "application/vnd.jupyter.widget-view+json": {
       "model_id": "f718e8c8e74741c6941b0fceba45bf55",
       "version_major": 2,
       "version_minor": 0
      },
      "text/plain": [
       "  0%|          | 0/157 [00:00<?, ?it/s]"
      ]
     },
     "metadata": {},
     "output_type": "display_data"
    },
    {
     "name": "stdout",
     "output_type": "stream",
     "text": [
      "training acc: 0.4922 total loss: tensor(216.4185, device='cuda:0', dtype=torch.float64, grad_fn=<AddBackward0>) training f1_score: 0.4922\n",
      "test acc: 0.5222 test f1_score: 0.5222\n",
      "epoch: 17\n"
     ]
    },
    {
     "name": "stderr",
     "output_type": "stream",
     "text": [
      "C:\\Users\\nitin\\AppData\\Local\\Temp/ipykernel_35588/2026690136.py:11: TqdmDeprecationWarning: This function will be removed in tqdm==5.0.0\n",
      "Please use `tqdm.notebook.tqdm` instead of `tqdm.tqdm_notebook`\n",
      "  for batch in tqdm_notebook(trainloader):\n"
     ]
    },
    {
     "data": {
      "application/vnd.jupyter.widget-view+json": {
       "model_id": "d46b1f1a40fd44ce8d9bef58838f3adc",
       "version_major": 2,
       "version_minor": 0
      },
      "text/plain": [
       "  0%|          | 0/157 [00:00<?, ?it/s]"
      ]
     },
     "metadata": {},
     "output_type": "display_data"
    },
    {
     "name": "stdout",
     "output_type": "stream",
     "text": [
      "training acc: 0.5042 total loss: tensor(212.7395, device='cuda:0', dtype=torch.float64, grad_fn=<AddBackward0>) training f1_score: 0.5042\n",
      "test acc: 0.5064 test f1_score: 0.5064\n",
      "epoch: 18\n"
     ]
    },
    {
     "name": "stderr",
     "output_type": "stream",
     "text": [
      "C:\\Users\\nitin\\AppData\\Local\\Temp/ipykernel_35588/2026690136.py:11: TqdmDeprecationWarning: This function will be removed in tqdm==5.0.0\n",
      "Please use `tqdm.notebook.tqdm` instead of `tqdm.tqdm_notebook`\n",
      "  for batch in tqdm_notebook(trainloader):\n"
     ]
    },
    {
     "data": {
      "application/vnd.jupyter.widget-view+json": {
       "model_id": "4cd082e5601b42a4b9e9525757852e35",
       "version_major": 2,
       "version_minor": 0
      },
      "text/plain": [
       "  0%|          | 0/157 [00:00<?, ?it/s]"
      ]
     },
     "metadata": {},
     "output_type": "display_data"
    },
    {
     "name": "stdout",
     "output_type": "stream",
     "text": [
      "training acc: 0.524 total loss: tensor(209.9673, device='cuda:0', dtype=torch.float64, grad_fn=<AddBackward0>) training f1_score: 0.524\n",
      "test acc: 0.5488 test f1_score: 0.5488\n",
      "epoch: 19\n"
     ]
    },
    {
     "name": "stderr",
     "output_type": "stream",
     "text": [
      "C:\\Users\\nitin\\AppData\\Local\\Temp/ipykernel_35588/2026690136.py:11: TqdmDeprecationWarning: This function will be removed in tqdm==5.0.0\n",
      "Please use `tqdm.notebook.tqdm` instead of `tqdm.tqdm_notebook`\n",
      "  for batch in tqdm_notebook(trainloader):\n"
     ]
    },
    {
     "data": {
      "application/vnd.jupyter.widget-view+json": {
       "model_id": "366273b68e504dc2b109cf683c775a2a",
       "version_major": 2,
       "version_minor": 0
      },
      "text/plain": [
       "  0%|          | 0/157 [00:00<?, ?it/s]"
      ]
     },
     "metadata": {},
     "output_type": "display_data"
    },
    {
     "name": "stdout",
     "output_type": "stream",
     "text": [
      "training acc: 0.5396 total loss: tensor(200.7547, device='cuda:0', dtype=torch.float64, grad_fn=<AddBackward0>) training f1_score: 0.5396\n",
      "test acc: 0.5538 test f1_score: 0.5538\n"
     ]
    }
   ],
   "source": [
    "train_f1 = []\n",
    "test_f1 = []\n",
    "print(\"----------------starting train loop------------------\")\n",
    "for epoch in range(num_of_epochs):\n",
    "    model.train()\n",
    "    start_time = time()\n",
    "    print(\"epoch:\",epoch)\n",
    "    y_pred = []\n",
    "    y_true = []\n",
    "    total_loss = 0.0\n",
    "    for batch in tqdm_notebook(trainloader):\n",
    "        optimizer.zero_grad()\n",
    "        output = model(batch['image'].to(device))\n",
    "        loss = criterian(output,batch['label'])\n",
    "        total_loss += loss\n",
    "        loss.backward()\n",
    "        optimizer.step()\n",
    "        y_pred += list(output.argmax(dim=1).detach().cpu().numpy())\n",
    "        y_true += list(batch['label'].argmax(dim=1).detach().cpu().numpy()) \n",
    "    print(\"training acc:\",accuracy_score(y_pred,y_true),end=' ')\n",
    "    f1 = f1_score(y_pred,y_true, average='micro')\n",
    "    train_f1.append(f1)\n",
    "    print(\"total loss:\", total_loss, end=' ')\n",
    "    print(\"training f1_score:\", f1)\n",
    "    \n",
    "    y_pred = []\n",
    "    y_true = []\n",
    "    model.eval()\n",
    "    for batch in valloader:\n",
    "        output = model(batch['image'].to(device))\n",
    "        y_pred += list(output.argmax(dim=1).detach().cpu().numpy())\n",
    "        y_true += list(batch['label'].argmax(dim=1).detach().cpu().numpy())\n",
    "    print(\"test acc:\",accuracy_score(y_pred,y_true),end=' ')\n",
    "    f1 = f1_score(y_pred,y_true, average='micro')\n",
    "    test_f1.append(f1)\n",
    "    print(\"test f1_score:\", f1)"
   ]
  },
  {
   "cell_type": "code",
   "execution_count": 19,
   "id": "2a9b6a09",
   "metadata": {},
   "outputs": [
    {
     "data": {
      "text/plain": [
       "200.7547052700611"
      ]
     },
     "execution_count": 19,
     "metadata": {},
     "output_type": "execute_result"
    }
   ],
   "source": [
    "total_loss.item()"
   ]
  },
  {
   "cell_type": "code",
   "execution_count": 32,
   "id": "7f613933",
   "metadata": {},
   "outputs": [
    {
     "name": "stdout",
     "output_type": "stream",
     "text": [
      "Training acc: 23 | loss: 200.7547052700611 | F1: 0.5538 || "
     ]
    }
   ],
   "source": [
    "print(\"Training acc:\",23,end=' ')\n",
    "print(\"| loss:\", total_loss.item(), end=' ')\n",
    "print(\"| F1:\", f1, end=' ')\n",
    "print(\"||\", end=' ')"
   ]
  },
  {
   "cell_type": "code",
   "execution_count": 33,
   "id": "81c66a39",
   "metadata": {},
   "outputs": [],
   "source": [
    "a = [(1,2), (3,4)]"
   ]
  },
  {
   "cell_type": "code",
   "execution_count": 39,
   "id": "d640bf38",
   "metadata": {},
   "outputs": [
    {
     "ename": "TypeError",
     "evalue": "'tuple' object does not support item assignment",
     "output_type": "error",
     "traceback": [
      "\u001b[1;31m---------------------------------------------------------------------------\u001b[0m",
      "\u001b[1;31mTypeError\u001b[0m                                 Traceback (most recent call last)",
      "\u001b[1;32m~\\AppData\\Local\\Temp/ipykernel_35588/2439464149.py\u001b[0m in \u001b[0;36m<module>\u001b[1;34m\u001b[0m\n\u001b[1;32m----> 1\u001b[1;33m \u001b[0ma\u001b[0m\u001b[1;33m[\u001b[0m\u001b[1;36m1\u001b[0m\u001b[1;33m]\u001b[0m\u001b[1;33m[\u001b[0m\u001b[1;36m0\u001b[0m\u001b[1;33m]\u001b[0m \u001b[1;33m=\u001b[0m \u001b[1;36m1\u001b[0m\u001b[1;33m\u001b[0m\u001b[1;33m\u001b[0m\u001b[0m\n\u001b[0m",
      "\u001b[1;31mTypeError\u001b[0m: 'tuple' object does not support item assignment"
     ]
    }
   ],
   "source": [
    "a[1][0] = 1"
   ]
  },
  {
   "cell_type": "code",
   "execution_count": 40,
   "id": "79020ef1",
   "metadata": {},
   "outputs": [],
   "source": [
    "a = []\n",
    "a.append([1,2])"
   ]
  },
  {
   "cell_type": "code",
   "execution_count": 42,
   "id": "2485dfd5",
   "metadata": {},
   "outputs": [],
   "source": [
    "def make_change(x):\n",
    "    x=10"
   ]
  },
  {
   "cell_type": "code",
   "execution_count": 43,
   "id": "d79d47ad",
   "metadata": {},
   "outputs": [],
   "source": [
    "a = 20\n",
    "make_change(a)"
   ]
  },
  {
   "cell_type": "code",
   "execution_count": 47,
   "id": "31306aa4",
   "metadata": {},
   "outputs": [
    {
     "name": "stdout",
     "output_type": "stream",
     "text": [
      "main line\n",
      "module name: __main__\n",
      "parent process: 23120\n",
      "process id: 35588\n"
     ]
    }
   ],
   "source": [
    "from multiprocessing import Process\n",
    "import os\n",
    "\n",
    "def info(title):\n",
    "    print(title)\n",
    "    print('module name:', __name__)\n",
    "    print('parent process:', os.getppid())\n",
    "    print('process id:', os.getpid())\n",
    "\n",
    "def f(name):\n",
    "    info('function f')\n",
    "    print('hello', name)\n",
    "\n",
    "if __name__ == '__main__':\n",
    "    info('main line')\n",
    "    processes = []\n",
    "    for i in range(10):\n",
    "        p = Process(target=f, args=(str(i),))\n",
    "        p.start()\n",
    "    processes.append(p)\n",
    "    for p in processes:\n",
    "        p.join()"
   ]
  },
  {
   "cell_type": "code",
   "execution_count": 48,
   "id": "bd43b97a",
   "metadata": {},
   "outputs": [],
   "source": [
    "from torch.multiprocessing import Manager"
   ]
  },
  {
   "cell_type": "code",
   "execution_count": 49,
   "id": "a980d122",
   "metadata": {},
   "outputs": [],
   "source": [
    "from multiprocessing import Process, Pipe"
   ]
  },
  {
   "cell_type": "code",
   "execution_count": 50,
   "id": "1e4afdfe",
   "metadata": {},
   "outputs": [],
   "source": [
    "parent_conn, child_conn = Pipe()"
   ]
  },
  {
   "cell_type": "code",
   "execution_count": null,
   "id": "f3c094ba",
   "metadata": {},
   "outputs": [],
   "source": [
    "child_conn."
   ]
  }
 ],
 "metadata": {
  "kernelspec": {
   "display_name": "Python 3",
   "language": "python",
   "name": "python3"
  },
  "language_info": {
   "codemirror_mode": {
    "name": "ipython",
    "version": 3
   },
   "file_extension": ".py",
   "mimetype": "text/x-python",
   "name": "python",
   "nbconvert_exporter": "python",
   "pygments_lexer": "ipython3",
   "version": "3.7.10"
  }
 },
 "nbformat": 4,
 "nbformat_minor": 5
}

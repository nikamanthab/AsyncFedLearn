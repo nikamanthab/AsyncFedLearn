{
 "cells": [
  {
   "cell_type": "code",
   "execution_count": 21,
   "id": "ed0ebc1a",
   "metadata": {},
   "outputs": [],
   "source": [
    "import sklearn\n",
    "import torch\n",
    "from torchvision import transforms\n",
    "from torch.utils.data import Dataset, DataLoader\n",
    "from torch.nn import Linear,Softmax,CrossEntropyLoss,ReLU,Sequential, Module\n",
    "from torch.optim import Adam\n",
    "import torch.nn as nn\n",
    "from sklearn.metrics import accuracy_score, f1_score\n",
    "import torch.nn.functional as F\n",
    "import pandas as pd\n",
    "import numpy as np\n",
    "import pickle\n",
    "import os\n",
    "from PIL import Image\n",
    "from time import time\n",
    "from tqdm import tqdm_notebook\n",
    "device = 'cuda'"
   ]
  },
  {
   "cell_type": "code",
   "execution_count": 22,
   "id": "0d8e3910",
   "metadata": {},
   "outputs": [
    {
     "name": "stdout",
     "output_type": "stream",
     "text": [
      "{'airplane': 0, 'automobile': 1, 'bird': 2, 'cat': 3, 'deer': 4, 'dog': 5, 'frog': 6, 'horse': 7, 'ship': 8, 'truck': 9}\n"
     ]
    }
   ],
   "source": [
    "label_dict = dict([(j,i) for (i,j) in list(enumerate(os.listdir('../Dataset/CIFAR-10-images/train/')))])\n",
    "print(label_dict)"
   ]
  },
  {
   "cell_type": "code",
   "execution_count": 23,
   "id": "016bc1d5",
   "metadata": {},
   "outputs": [],
   "source": [
    "paths = []\n",
    "label = []\n",
    "for i in os.listdir('../Dataset/CIFAR-10-images/train/'):\n",
    "    for j in os.listdir('../Dataset/CIFAR-10-images/train/'+str(i)):\n",
    "        paths.append('../Dataset/CIFAR-10-images/train/'+str(i)+'/'+str(j))\n",
    "        label.append(i)\n",
    "train_df = pd.DataFrame({\"paths\": paths, \"label\": label})  \n",
    "\n",
    "paths = []\n",
    "label = []\n",
    "for i in os.listdir('../Dataset/CIFAR-10-images/test/'):\n",
    "    for j in os.listdir('../Dataset/CIFAR-10-images/test/'+str(i)):\n",
    "        paths.append('../Dataset/CIFAR-10-images/test/'+str(i)+'/'+str(j))\n",
    "        label.append(i)\n",
    "test_df = pd.DataFrame({\"paths\": paths, \"label\": label})"
   ]
  },
  {
   "cell_type": "code",
   "execution_count": 24,
   "id": "bab0856d",
   "metadata": {},
   "outputs": [
    {
     "name": "stdout",
     "output_type": "stream",
     "text": [
      "train classes:  10\n",
      "train images:  50000\n",
      "test classes:  10\n",
      "test images:  10000\n"
     ]
    }
   ],
   "source": [
    "print(\"train classes: \", len(train_df['label'].unique()))\n",
    "print(\"train images: \", len(train_df['paths'].unique()))\n",
    "print(\"test classes: \", len(test_df['label'].unique()))\n",
    "print(\"test images: \", len(test_df['paths'].unique()))"
   ]
  },
  {
   "cell_type": "code",
   "execution_count": 25,
   "id": "af3d4d27",
   "metadata": {},
   "outputs": [],
   "source": [
    "train_df.to_csv('../Dataset/train.csv', index=False)\n",
    "test_df.to_csv('../Dataset/test.csv', index=False)"
   ]
  },
  {
   "cell_type": "code",
   "execution_count": 26,
   "id": "41c60397",
   "metadata": {},
   "outputs": [],
   "source": [
    "class CIFARDataSet(Dataset):\n",
    "    def __init__(self, csv_file, transform=None):\n",
    "        self.df = csv_file\n",
    "    def __len__(self):\n",
    "        return len(self.df)\n",
    "    def __getitem__(self, idx):\n",
    "        if torch.is_tensor(idx):\n",
    "            idx = idx.tolist()\n",
    "        label = label_dict[self.df.iloc[idx]['label']]\n",
    "        label_onehot = np.zeros(10)\n",
    "        label_onehot[label] = 1.\n",
    "        path = self.df.iloc[idx]['paths']\n",
    "        image = Image.open(path)\n",
    "        trans = transforms.ToTensor()\n",
    "        image = trans(image)\n",
    "        sample = {\n",
    "            \"image\": image.to(device),\n",
    "            \"label\": torch.from_numpy(label_onehot).to(device)\n",
    "        }\n",
    "        return sample"
   ]
  },
  {
   "cell_type": "code",
   "execution_count": 27,
   "id": "c1ed8e15",
   "metadata": {},
   "outputs": [],
   "source": [
    "class Net(nn.Module):\n",
    "    def __init__(self):\n",
    "        super().__init__()\n",
    "        self.conv1 = nn.Conv2d(3, 6, 5)\n",
    "        self.pool = nn.MaxPool2d(2, 2)\n",
    "        self.conv2 = nn.Conv2d(6, 16, 5)\n",
    "        self.fc1 = nn.Linear(16 * 5 * 5, 120)\n",
    "        self.fc2 = nn.Linear(120, 84)\n",
    "        self.fc3 = nn.Linear(84, 10)\n",
    "    def forward(self, x):\n",
    "        x = self.pool(F.relu(self.conv1(x)))\n",
    "        x = self.pool(F.relu(self.conv2(x)))\n",
    "        x = torch.flatten(x, 1) # flatten all dimensions except batch\n",
    "        x = F.relu(self.fc1(x))\n",
    "        x = F.relu(self.fc2(x))\n",
    "        x = self.fc3(x)\n",
    "        return x"
   ]
  },
  {
   "cell_type": "code",
   "execution_count": 28,
   "id": "9c317a42",
   "metadata": {},
   "outputs": [],
   "source": [
    "model = Net().to(device)\n",
    "train_batch_size = 32\n",
    "learning_rate = 0.1\n",
    "num_of_epochs = 5"
   ]
  },
  {
   "cell_type": "code",
   "execution_count": 31,
   "id": "00b98502",
   "metadata": {},
   "outputs": [],
   "source": [
    "traindataset = CIFARDataSet(train_df)\n",
    "trainloader = DataLoader(traindataset, batch_size=train_batch_size,shuffle=True)\n",
    "valdataset = CIFARDataSet(test_df)\n",
    "valloader = DataLoader(valdataset, batch_size=32)"
   ]
  },
  {
   "cell_type": "code",
   "execution_count": 32,
   "id": "f048da65",
   "metadata": {},
   "outputs": [],
   "source": [
    "criterian = CrossEntropyLoss().to(device)\n",
    "optimizer = Adam(model.parameters(), lr=learning_rate)"
   ]
  },
  {
   "cell_type": "code",
   "execution_count": null,
   "id": "dab113eb",
   "metadata": {},
   "outputs": [
    {
     "name": "stdout",
     "output_type": "stream",
     "text": [
      "----------------starting train loop------------------\n",
      "epoch: 0\n"
     ]
    },
    {
     "name": "stderr",
     "output_type": "stream",
     "text": [
      "C:\\Users\\nitin\\AppData\\Local\\Temp/ipykernel_26100/143846759.py:10: TqdmDeprecationWarning: This function will be removed in tqdm==5.0.0\n",
      "Please use `tqdm.notebook.tqdm` instead of `tqdm.tqdm_notebook`\n",
      "  for batch in tqdm_notebook(trainloader):\n"
     ]
    },
    {
     "data": {
      "application/vnd.jupyter.widget-view+json": {
       "model_id": "1f355f2316dc402098035ff60059fdc0",
       "version_major": 2,
       "version_minor": 0
      },
      "text/plain": [
       "  0%|          | 0/1563 [00:00<?, ?it/s]"
      ]
     },
     "metadata": {},
     "output_type": "display_data"
    },
    {
     "name": "stdout",
     "output_type": "stream",
     "text": [
      "training acc: 0.10248 total loss: tensor(4440.7894, device='cuda:0', dtype=torch.float64, grad_fn=<AddBackward0>) training f1_score: 0.10248\n",
      "Time for one epoch: 99.33508372306824\n",
      "samples/sec: 503.3468350355724\n",
      "test acc: 0.1 test f1_score: 0.10000000000000002\n",
      "epoch: 1\n"
     ]
    },
    {
     "name": "stderr",
     "output_type": "stream",
     "text": [
      "C:\\Users\\nitin\\AppData\\Local\\Temp/ipykernel_26100/143846759.py:10: TqdmDeprecationWarning: This function will be removed in tqdm==5.0.0\n",
      "Please use `tqdm.notebook.tqdm` instead of `tqdm.tqdm_notebook`\n",
      "  for batch in tqdm_notebook(trainloader):\n"
     ]
    },
    {
     "data": {
      "application/vnd.jupyter.widget-view+json": {
       "model_id": "8af558186eef49e1ae86fd68e252dba7",
       "version_major": 2,
       "version_minor": 0
      },
      "text/plain": [
       "  0%|          | 0/1563 [00:00<?, ?it/s]"
      ]
     },
     "metadata": {},
     "output_type": "display_data"
    }
   ],
   "source": [
    "train_f1 = []\n",
    "test_f1 = []\n",
    "print(\"----------------starting train loop------------------\")\n",
    "for epoch in range(num_of_epochs):\n",
    "    start_time = time()\n",
    "    print(\"epoch:\",epoch)\n",
    "    y_pred = []\n",
    "    y_true = []\n",
    "    total_loss = 0.0\n",
    "    for batch in tqdm_notebook(trainloader):\n",
    "        optimizer.zero_grad()\n",
    "        output = model(batch['image'].float().to(device))\n",
    "        loss = criterian(output,batch['label'])\n",
    "        total_loss += loss\n",
    "        loss.backward()\n",
    "        optimizer.step()\n",
    "        y_pred += list(output.argmax(dim=1).detach().cpu().numpy())\n",
    "        y_true += list(batch['label'].argmax(dim=1).detach().cpu().numpy()) \n",
    "    print(\"training acc:\",accuracy_score(y_pred,y_true),end=' ')\n",
    "    f1 = f1_score(y_pred,y_true, average='micro')\n",
    "    train_f1.append(f1)\n",
    "    print(\"total loss:\", total_loss, end=' ')\n",
    "    print(\"training f1_score:\", f1)\n",
    "    end_time = time()\n",
    "    print(\"Time for one epoch:\", end_time - start_time)\n",
    "\n",
    "    print(\"samples/sec:\", len(train_df)/(end_time - start_time))\n",
    "    \n",
    "    y_pred = []\n",
    "    y_true = []\n",
    "    for batch in valloader:\n",
    "        output = model(batch['image'].float().to(device))\n",
    "        y_pred += list(output.argmax(dim=1).detach().cpu().numpy())\n",
    "        y_true += list(batch['label'].argmax(dim=1).detach().cpu().numpy())\n",
    "    print(\"test acc:\",accuracy_score(y_pred,y_true),end=' ')\n",
    "    f1 = f1_score(y_pred,y_true, average='micro')\n",
    "    test_f1.append(f1)\n",
    "    print(\"test f1_score:\", f1)"
   ]
  },
  {
   "cell_type": "code",
   "execution_count": null,
   "id": "a240998b",
   "metadata": {},
   "outputs": [],
   "source": []
  },
  {
   "cell_type": "code",
   "execution_count": null,
   "id": "11395fe5",
   "metadata": {},
   "outputs": [],
   "source": []
  }
 ],
 "metadata": {
  "kernelspec": {
   "display_name": "Python 3 (ipykernel)",
   "language": "python",
   "name": "python3"
  },
  "language_info": {
   "codemirror_mode": {
    "name": "ipython",
    "version": 3
   },
   "file_extension": ".py",
   "mimetype": "text/x-python",
   "name": "python",
   "nbconvert_exporter": "python",
   "pygments_lexer": "ipython3",
   "version": "3.9.7"
  }
 },
 "nbformat": 4,
 "nbformat_minor": 5
}

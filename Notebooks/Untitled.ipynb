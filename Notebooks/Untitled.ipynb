{
 "cells": [
  {
   "cell_type": "code",
   "execution_count": 1,
   "id": "furnished-recruitment",
   "metadata": {},
   "outputs": [],
   "source": [
    "d= {\n",
    "    \"name\": \"nitin\"\n",
    "}"
   ]
  },
  {
   "cell_type": "code",
   "execution_count": 2,
   "id": "daily-format",
   "metadata": {},
   "outputs": [],
   "source": [
    "n = {\n",
    "    \"val\": 1,\n",
    "    \"fug\": 2\n",
    "}"
   ]
  },
  {
   "cell_type": "code",
   "execution_count": 4,
   "id": "august-clear",
   "metadata": {},
   "outputs": [],
   "source": [
    "d.update(n)"
   ]
  },
  {
   "cell_type": "code",
   "execution_count": 5,
   "id": "theoretical-mayor",
   "metadata": {},
   "outputs": [
    {
     "data": {
      "text/plain": [
       "{'name': 'nitin', 'val': 1, 'fug': 2}"
      ]
     },
     "execution_count": 5,
     "metadata": {},
     "output_type": "execute_result"
    }
   ],
   "source": [
    "d"
   ]
  },
  {
   "cell_type": "code",
   "execution_count": 11,
   "id": "french-brook",
   "metadata": {},
   "outputs": [
    {
     "data": {
      "text/plain": [
       "True"
      ]
     },
     "execution_count": 11,
     "metadata": {},
     "output_type": "execute_result"
    }
   ],
   "source": [
    "'NA' in ['NA', 'nitin']"
   ]
  },
  {
   "cell_type": "code",
   "execution_count": 8,
   "id": "drawn-firmware",
   "metadata": {},
   "outputs": [],
   "source": [
    "n = {'val':1}"
   ]
  },
  {
   "cell_type": "code",
   "execution_count": 9,
   "id": "under-wyoming",
   "metadata": {},
   "outputs": [],
   "source": [
    "def dada(n):\n",
    "    n['val'] = 2\n",
    "    return"
   ]
  },
  {
   "cell_type": "code",
   "execution_count": 10,
   "id": "innovative-enterprise",
   "metadata": {},
   "outputs": [],
   "source": [
    "dada(n)"
   ]
  },
  {
   "cell_type": "code",
   "execution_count": 13,
   "id": "formed-porcelain",
   "metadata": {},
   "outputs": [],
   "source": [
    "n.update({'val':3})"
   ]
  },
  {
   "cell_type": "code",
   "execution_count": 14,
   "id": "dated-apparel",
   "metadata": {},
   "outputs": [
    {
     "data": {
      "text/plain": [
       "{'val': 3}"
      ]
     },
     "execution_count": 14,
     "metadata": {},
     "output_type": "execute_result"
    }
   ],
   "source": [
    "n"
   ]
  },
  {
   "cell_type": "code",
   "execution_count": null,
   "id": "polish-profile",
   "metadata": {},
   "outputs": [],
   "source": []
  }
 ],
 "metadata": {
  "kernelspec": {
   "display_name": "Python 3",
   "language": "python",
   "name": "python3"
  },
  "language_info": {
   "codemirror_mode": {
    "name": "ipython",
    "version": 3
   },
   "file_extension": ".py",
   "mimetype": "text/x-python",
   "name": "python",
   "nbconvert_exporter": "python",
   "pygments_lexer": "ipython3",
   "version": "3.7.10"
  }
 },
 "nbformat": 4,
 "nbformat_minor": 5
}
